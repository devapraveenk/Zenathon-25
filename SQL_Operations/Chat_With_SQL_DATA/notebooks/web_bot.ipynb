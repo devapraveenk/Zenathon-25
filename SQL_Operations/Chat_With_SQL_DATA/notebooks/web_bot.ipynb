{
 "cells": [
  {
   "cell_type": "code",
   "execution_count": 42,
   "metadata": {},
   "outputs": [
    {
     "data": {
      "text/plain": [
       "True"
      ]
     },
     "execution_count": 42,
     "metadata": {},
     "output_type": "execute_result"
    }
   ],
   "source": [
    "from dotenv import load_dotenv\n",
    "\n",
    "load_dotenv()"
   ]
  },
  {
   "cell_type": "code",
   "execution_count": 43,
   "metadata": {},
   "outputs": [],
   "source": [
    "from langchain_openai import ChatOpenAI\n",
    "\n",
    "llm = ChatOpenAI(model=\"gpt-4o-mini\")"
   ]
  },
  {
   "cell_type": "code",
   "execution_count": 44,
   "metadata": {},
   "outputs": [],
   "source": [
    "from langchain_openai import OpenAIEmbeddings\n",
    "\n",
    "embeddings = OpenAIEmbeddings(model=\"text-embedding-3-large\")\n"
   ]
  },
  {
   "cell_type": "code",
   "execution_count": 45,
   "metadata": {},
   "outputs": [
    {
     "data": {
      "text/plain": [
       "True"
      ]
     },
     "execution_count": 45,
     "metadata": {},
     "output_type": "execute_result"
    }
   ],
   "source": [
    "from langchain_qdrant import QdrantVectorStore\n",
    "from qdrant_client import QdrantClient\n",
    "from qdrant_client.http.models import Distance, VectorParams\n",
    "\n",
    "client = QdrantClient(\":memory:\")\n",
    "\n",
    "client.create_collection(\n",
    "    collection_name=\"web_collection\",\n",
    "    vectors_config=VectorParams(size=3072, distance=Distance.COSINE),\n",
    ")"
   ]
  },
  {
   "cell_type": "code",
   "execution_count": 46,
   "metadata": {},
   "outputs": [],
   "source": [
    "vector_store = QdrantVectorStore(\n",
    "    client=client,\n",
    "    collection_name=\"web_collection\",\n",
    "    embedding=embeddings,\n",
    ")"
   ]
  },
  {
   "cell_type": "code",
   "execution_count": null,
   "metadata": {},
   "outputs": [],
   "source": [
    "import bs4\n",
    "from langchain import hub\n",
    "from langchain_community.document_loaders import WebBaseLoader\n",
    "from langchain_core.documents import Document\n",
    "from langchain_text_splitters import RecursiveCharacterTextSplitter\n",
    "from typing_extensions import List, TypedDict\n",
    "\n",
    "# Load and chunk contents of the blog\n",
    "from langchain_community.document_loaders import PlaywrightURLLoader\n",
    "\n",
    "urls = [\n",
    "    \"https://www.oraczen.ai\"\n",
    "]\n",
    "\n",
    "loader = PlaywrightURLLoader(urls=urls, remove_selectors=[\"header\", \"footer\"])\n",
    "docs = await loader.aload()\n",
    "\n",
    "text_splitter = RecursiveCharacterTextSplitter(chunk_size=1000, chunk_overlap=200)\n",
    "all_splits = text_splitter.split_documents(docs)"
   ]
  },
  {
   "cell_type": "code",
   "execution_count": 50,
   "metadata": {},
   "outputs": [],
   "source": [
    "# Index chunks\n",
    "_ = vector_store.add_documents(documents=all_splits)"
   ]
  },
  {
   "cell_type": "code",
   "execution_count": 51,
   "metadata": {},
   "outputs": [],
   "source": [
    "from langchain_core.documents import Document\n",
    "from typing_extensions import List, TypedDict\n",
    "\n",
    "\n",
    "class State(TypedDict):\n",
    "    question: str\n",
    "    context: List[Document]\n",
    "    answer: str"
   ]
  },
  {
   "cell_type": "code",
   "execution_count": 9,
   "metadata": {},
   "outputs": [],
   "source": [
    "from langchain_core.prompts import PromptTemplate\n",
    "\n",
    "template = \"\"\"Use the following pieces of context to answer the question at the end.\n",
    "If you don't know the answer, just say that you don't know, don't try to make up an answer.\n",
    "Use three sentences maximum and keep the answer as concise as possible.\n",
    "Always say \"thanks for asking!\" at the end of the answer.\n",
    "\n",
    "{context}\n",
    "\n",
    "Question: {question}\n",
    "\n",
    "Helpful Answer:\"\"\"\n",
    "prompt = PromptTemplate.from_template(template)"
   ]
  },
  {
   "cell_type": "code",
   "execution_count": null,
   "metadata": {},
   "outputs": [],
   "source": [
    "from langchain_core.prompts import ChatPromptTemplate\n",
    "from langchain_core.messages import HumanMessage\n",
    "\n",
    "def retrieve(state: State):\n",
    "    retrieved_docs = vector_store.similarity_search(state[\"question\"])\n",
    "    return {\"context\": retrieved_docs}\n",
    "\n",
    "\n",
    "def generate(state: State):\n",
    "    docs_content = \"\\n\\n\".join(doc.page_content for doc in state[\"context\"])\n",
    "    \n",
    "    \n",
    "    \n",
    "    template = (\"Use the following pieces of context to answer the question at the end.\"\n",
    "\"If you don't know the answer, just say that you don't know, don't try to make up an answer.\"\n",
    "\"Use three sentences maximum and keep the answer as concise as possible.\"\n",
    "\"Always say 'thanks for asking!' at the end of the answer.\"\n",
    "\n",
    "f'Context: {docs_content}\\n'\n",
    "\n",
    "f'Question: {state[\"question\"]}'\n",
    ")\n",
    "    \n",
    "    system_msg = \"\"\" You are a customer service CHATBOT your name is 'ORACZEN AI'\n",
    "    company details and service chatbot generate the relevent answer so clear in your responses. Be polite and helpful.\n",
    "    If answer not found tell the user that the information is not available.\n",
    "    \n",
    "    \n",
    "    \"\"\"\n",
    "    query_generate = ChatPromptTemplate.from_messages(\n",
    "    [(\"system\", system_msg), (\"placeholder\", \"{template}\")]\n",
    ")\n",
    "    output = query_generate | llm\n",
    "    \n",
    "    response = output.invoke({\"template\": [HumanMessage(content=template)]})\n",
    "    return {\"answer\": response.content}"
   ]
  },
  {
   "cell_type": "code",
   "execution_count": 53,
   "metadata": {},
   "outputs": [],
   "source": [
    "from langgraph.checkpoint.memory import MemorySaver\n",
    "\n",
    "memory = MemorySaver()\n",
    "# graph = graph_builder.compile(checkpointer=memory)\n",
    "\n",
    "# Specify an ID for the thread\n",
    "config = {\"configurable\": {\"thread_id\": \"abc123\"}}"
   ]
  },
  {
   "cell_type": "code",
   "execution_count": 54,
   "metadata": {},
   "outputs": [],
   "source": [
    "from langgraph.graph import START, StateGraph\n",
    "\n",
    "graph_builder = StateGraph(State).add_sequence([retrieve, generate])\n",
    "graph_builder.add_edge(START, \"retrieve\")\n",
    "graph = graph_builder.compile(checkpointer=memory)"
   ]
  },
  {
   "cell_type": "code",
   "execution_count": 57,
   "metadata": {},
   "outputs": [
    {
     "name": "stdout",
     "output_type": "stream",
     "text": [
      "{'question': 'give me the contact details', 'context': [Document(metadata={'source': 'https://shade6.com', '_id': 'a8c8efb3918444f085886a3e31288018', '_collection_name': 'web_collection'}, page_content='91501 34707\\n\\nEmail\\n\\nSuccess Stories\\n\\nFew of our works\\n\\nTestimonials\\n\\nWhat our clients talk about us!\\n\\nNeed more info?\\n\\nReach out to us so you can get the best!\\n\\nYour inquiry about * Web Application Development Mobile Application Development Website Creation BuildNow Platform Others\\n\\nReach out now!\\n\\n(+91) 91501 34707\\n\\nStart the collaboration with us while figuring out the best solution based on your needs.\\n\\nKonquest IT Park, Ambattur Industrial Estate\\n\\ninfo@shade6.com\\n\\n+91 91501 34707\\n\\nwww.shade6.com\\n\\nIT Services\\n\\nWeb Sites/Applications\\n\\nMobile Applications\\n\\nDesign\\n\\nE-Commerce\\n\\nQuick Links\\n\\nBuildNow\\n\\nAbout Us\\n\\nCareers\\n\\nSupport\\n\\nContact Us\\n\\nCase Studies\\n\\nBlogs\\n\\nLegal\\n\\nTerms of Use\\n\\nPrivacy Policy\\n\\n© 2023 Shade6. All Rights Reserved.\\n\\n\\n\\n\\n\\n\\n\\nAbout\\n\\nServices\\n\\nBuild Now\\n\\nSuccess Stories\\n\\nContact Us\\n\\nBlog'), Document(metadata={'source': 'https://shade6.com', '_id': '7d6f613fbe82486895373d520989e388', '_collection_name': 'web_collection'}, page_content='Now Hiring: Motivated Software Developers with knowledge in PHP & Nuxtjs\\n\\n+91 91501 34707\\n\\ninfo@shade6.com\\n\\nAbout\\n\\nServices\\n\\nBuild Now\\n\\nSuccess Stories\\n\\nContact Us\\n\\nBlog\\n\\nTechnology that empowers\\n\\nNamaskar!\\n\\nGrowth awaits you!\\n\\nConnect Now\\n\\nGet a free consultation\\n\\nYour inquiry about * Web Application Development Mobile Application Development Website Creation BuildNow Platform Others\\n\\nOur Services\\n\\ndiscover our company\\n\\nThe aspects of technology\\n\\nThe Process\\n\\nPartners\\n\\nTech Tools\\n\\nHow we work\\n\\nThe process of\\n\\ndeveloping\\n\\ndeveloping\\n\\nyour application\\n\\n04 Steps\\n\\n01. Requirement Elicitation\\n\\nUnderstanding customer requirements\\n\\nLook more\\n\\n02. Architecture & Planning\\n\\nCreating sprints and application architecture\\n\\nLook more\\n\\n03. Development & Testing\\n\\nUI desining and writing codes, and testing\\n\\nLook more\\n\\n04. Deployment\\n\\nUsing CI/CD pipelines to deploy the application\\n\\nLook more'), Document(metadata={'source': 'https://shade6.com', '_id': '42d3b0bf9f0343dfb2bf92dbf40c0442', '_collection_name': 'web_collection'}, page_content='Look more\\n\\n03. Development & Testing\\n\\nUI desining and writing codes, and testing\\n\\nLook more\\n\\n04. Deployment\\n\\nUsing CI/CD pipelines to deploy the application\\n\\nLook more\\n\\nQuality Assurance System At Mitech, we have a holistic and integrated approach towards core modernization to experience technological evolution.\\n             Discover now\\n\\nHighly Professional Staffs At Mitech, we have a holistic and integrated approach towards core modernization to experience technological evolution.\\n             Discover now\\n\\nInfo Security Management At Mitech, we have a holistic and integrated approach towards core modernization to experience technological evolution.\\n             Discover now\\n\\nNews & Updates\\n\\nLatest blogs\\n\\nWe run all kinds of IT services that vow your success\\n\\n91501 34707\\n\\nEmail\\n\\nSuccess Stories\\n\\nFew of our works\\n\\nTestimonials\\n\\nWhat our clients talk about us!\\n\\nNeed more info?\\n\\nReach out to us so you can get the best!')], 'answer': 'You can reach us at +91 91501 34707 or email us at info@shade6.com. For more information, you can also visit our website at www.shade6.com. Thanks for asking!'}\n",
      "Context: [Document(metadata={'source': 'https://shade6.com', '_id': 'a8c8efb3918444f085886a3e31288018', '_collection_name': 'web_collection'}, page_content='91501 34707\\n\\nEmail\\n\\nSuccess Stories\\n\\nFew of our works\\n\\nTestimonials\\n\\nWhat our clients talk about us!\\n\\nNeed more info?\\n\\nReach out to us so you can get the best!\\n\\nYour inquiry about * Web Application Development Mobile Application Development Website Creation BuildNow Platform Others\\n\\nReach out now!\\n\\n(+91) 91501 34707\\n\\nStart the collaboration with us while figuring out the best solution based on your needs.\\n\\nKonquest IT Park, Ambattur Industrial Estate\\n\\ninfo@shade6.com\\n\\n+91 91501 34707\\n\\nwww.shade6.com\\n\\nIT Services\\n\\nWeb Sites/Applications\\n\\nMobile Applications\\n\\nDesign\\n\\nE-Commerce\\n\\nQuick Links\\n\\nBuildNow\\n\\nAbout Us\\n\\nCareers\\n\\nSupport\\n\\nContact Us\\n\\nCase Studies\\n\\nBlogs\\n\\nLegal\\n\\nTerms of Use\\n\\nPrivacy Policy\\n\\n© 2023 Shade6. All Rights Reserved.\\n\\n\\n\\n\\n\\n\\n\\nAbout\\n\\nServices\\n\\nBuild Now\\n\\nSuccess Stories\\n\\nContact Us\\n\\nBlog'), Document(metadata={'source': 'https://shade6.com', '_id': '7d6f613fbe82486895373d520989e388', '_collection_name': 'web_collection'}, page_content='Now Hiring: Motivated Software Developers with knowledge in PHP & Nuxtjs\\n\\n+91 91501 34707\\n\\ninfo@shade6.com\\n\\nAbout\\n\\nServices\\n\\nBuild Now\\n\\nSuccess Stories\\n\\nContact Us\\n\\nBlog\\n\\nTechnology that empowers\\n\\nNamaskar!\\n\\nGrowth awaits you!\\n\\nConnect Now\\n\\nGet a free consultation\\n\\nYour inquiry about * Web Application Development Mobile Application Development Website Creation BuildNow Platform Others\\n\\nOur Services\\n\\ndiscover our company\\n\\nThe aspects of technology\\n\\nThe Process\\n\\nPartners\\n\\nTech Tools\\n\\nHow we work\\n\\nThe process of\\n\\ndeveloping\\n\\ndeveloping\\n\\nyour application\\n\\n04 Steps\\n\\n01. Requirement Elicitation\\n\\nUnderstanding customer requirements\\n\\nLook more\\n\\n02. Architecture & Planning\\n\\nCreating sprints and application architecture\\n\\nLook more\\n\\n03. Development & Testing\\n\\nUI desining and writing codes, and testing\\n\\nLook more\\n\\n04. Deployment\\n\\nUsing CI/CD pipelines to deploy the application\\n\\nLook more'), Document(metadata={'source': 'https://shade6.com', '_id': '42d3b0bf9f0343dfb2bf92dbf40c0442', '_collection_name': 'web_collection'}, page_content='Look more\\n\\n03. Development & Testing\\n\\nUI desining and writing codes, and testing\\n\\nLook more\\n\\n04. Deployment\\n\\nUsing CI/CD pipelines to deploy the application\\n\\nLook more\\n\\nQuality Assurance System At Mitech, we have a holistic and integrated approach towards core modernization to experience technological evolution.\\n             Discover now\\n\\nHighly Professional Staffs At Mitech, we have a holistic and integrated approach towards core modernization to experience technological evolution.\\n             Discover now\\n\\nInfo Security Management At Mitech, we have a holistic and integrated approach towards core modernization to experience technological evolution.\\n             Discover now\\n\\nNews & Updates\\n\\nLatest blogs\\n\\nWe run all kinds of IT services that vow your success\\n\\n91501 34707\\n\\nEmail\\n\\nSuccess Stories\\n\\nFew of our works\\n\\nTestimonials\\n\\nWhat our clients talk about us!\\n\\nNeed more info?\\n\\nReach out to us so you can get the best!')]\n",
      "\n",
      "\n",
      "Answer: You can reach us at +91 91501 34707 or email us at info@shade6.com. For more information, you can also visit our website at www.shade6.com. Thanks for asking!\n"
     ]
    }
   ],
   "source": [
    "result = graph.invoke({\"question\": \"give me the contact details\"}, config=config)\n",
    "print(result)\n",
    "\n",
    "print(f'Context: {result[\"context\"]}\\n\\n')\n",
    "print(f'Answer: {result[\"answer\"]}')"
   ]
  },
  {
   "cell_type": "code",
   "execution_count": null,
   "metadata": {},
   "outputs": [],
   "source": []
  },
  {
   "cell_type": "code",
   "execution_count": null,
   "metadata": {},
   "outputs": [],
   "source": []
  },
  {
   "cell_type": "code",
   "execution_count": null,
   "metadata": {},
   "outputs": [],
   "source": []
  },
  {
   "cell_type": "code",
   "execution_count": null,
   "metadata": {},
   "outputs": [],
   "source": []
  },
  {
   "cell_type": "code",
   "execution_count": null,
   "metadata": {},
   "outputs": [],
   "source": []
  }
 ],
 "metadata": {
  "kernelspec": {
   "display_name": "generativeai",
   "language": "python",
   "name": "python3"
  },
  "language_info": {
   "codemirror_mode": {
    "name": "ipython",
    "version": 3
   },
   "file_extension": ".py",
   "mimetype": "text/x-python",
   "name": "python",
   "nbconvert_exporter": "python",
   "pygments_lexer": "ipython3",
   "version": "3.13.1"
  }
 },
 "nbformat": 4,
 "nbformat_minor": 2
}
