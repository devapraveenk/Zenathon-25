{
 "cells": [
  {
   "cell_type": "code",
   "execution_count": 42,
   "metadata": {},
   "outputs": [],
   "source": [
    "from pydantic import BaseModel, Field\n",
    "from typing import TypedDict, Optional, Annotated, List"
   ]
  },
  {
   "cell_type": "code",
   "execution_count": 2,
   "metadata": {},
   "outputs": [],
   "source": [
    "from langchain.chat_models import init_chat_model\n",
    "from langchain.prompts import ChatMessagePromptTemplate, PromptTemplate\n",
    "from langchain.output_parsers import PydanticOutputParser\n",
    "from langchain import hub\n",
    "from langchain_community.utilities import SQLDatabase\n",
    "from langchain_community.tools import Tool\n",
    "from langchain_community.tools.sql_database.tool import QuerySQLDatabaseTool"
   ]
  },
  {
   "cell_type": "code",
   "execution_count": 3,
   "metadata": {},
   "outputs": [
    {
     "name": "stdout",
     "output_type": "stream",
     "text": [
      "sqlite\n",
      "['Album', 'Artist', 'Customer', 'Employee', 'Genre', 'Invoice', 'InvoiceLine', 'MediaType', 'Playlist', 'PlaylistTrack', 'Track']\n"
     ]
    },
    {
     "data": {
      "text/plain": [
       "\"[(1, 'AC/DC'), (2, 'Accept'), (3, 'Aerosmith'), (4, 'Alanis Morissette'), (5, 'Alice In Chains'), (6, 'Antônio Carlos Jobim'), (7, 'Apocalyptica'), (8, 'Audioslave'), (9, 'BackBeat'), (10, 'Billy Cobham')]\""
      ]
     },
     "execution_count": 3,
     "metadata": {},
     "output_type": "execute_result"
    }
   ],
   "source": [
    "\n",
    "\n",
    "db = SQLDatabase.from_uri(\"sqlite:///Chinook.db\")\n",
    "print(db.dialect)\n",
    "print(db.get_usable_table_names())\n",
    "db.run(\"SELECT * FROM Artist LIMIT 10;\")"
   ]
  },
  {
   "cell_type": "code",
   "execution_count": 4,
   "metadata": {},
   "outputs": [],
   "source": [
    "query_executor = QuerySQLDatabaseTool(db=db)"
   ]
  },
  {
   "cell_type": "code",
   "execution_count": 5,
   "metadata": {},
   "outputs": [],
   "source": [
    "import sys\n",
    "import io\n",
    "import traceback\n",
    "import subprocess\n",
    "from contextlib import redirect_stdout, redirect_stderr\n",
    "\n",
    "\n",
    "PACKAGE_MAPPING = {\n",
    "    \"sklearn\": \"scikit-learn\",  # For machine learning\n",
    "    \"cv2\": \"opencv-python\",  # For computer vision\n",
    "    \"PIL\": \"Pillow\",  # For image processing\n",
    "    \"yaml\": \"pyyaml\",  # For YAML file handling\n",
    "    \"bs4\": \"beautifulsoup4\",  # For web scraping\n",
    "    \"tf\": \"tensorflow\"}\n",
    "\n",
    "def execute_python_code(code):\n",
    "    # Capture stdout and stderr\n",
    "    output = io.StringIO()\n",
    "    error = io.StringIO()\n",
    "\n",
    "    try:\n",
    "        with redirect_stdout(output), redirect_stderr(error):\n",
    "            exec(code)\n",
    "        return output.getvalue(), error.getvalue(), None\n",
    "    except ImportError as e:\n",
    "        # Handle missing packages\n",
    "        package_name = str(e).split(\"'\")[1]  # Extract the package name from the error message\n",
    "        pip_package_name = PACKAGE_MAPPING.get(package_name, package_name)  # Get the correct pip name\n",
    "        try:\n",
    "            # Attempt to install the missing package\n",
    "            subprocess.check_call([sys.executable, \"-m\", \"pip\", \"install\", pip_package_name])\n",
    "            # Retry executing the code after installation\n",
    "            return execute_python_code(code)\n",
    "            # with redirect_stdout(output), redirect_stderr(error):\n",
    "            #     exec(code)\n",
    "            # return output.getvalue(), error.getvalue(), None\n",
    "        except subprocess.CalledProcessError:\n",
    "            # If installation fails, return the error\n",
    "            return output.getvalue(), error.getvalue(), f\"Failed to install package: {pip_package_name}\"\n",
    "    except Exception:\n",
    "        # Handle all other exceptions\n",
    "        return output.getvalue(), error.getvalue(), traceback.format_exc()\n",
    "\n",
    "repl_tool = Tool(\n",
    "    name=\"python_repl\",\n",
    "    description=\"A Python shell. Use this to execute python commands. Input should be a valid python command. If you want to see the output of a value, you should print it out with `print(...)`.\",\n",
    "    func=execute_python_code,\n",
    ")"
   ]
  },
  {
   "cell_type": "code",
   "execution_count": 6,
   "metadata": {},
   "outputs": [],
   "source": [
    "import os\n",
    "from dotenv import load_dotenv\n",
    "load_dotenv()\n",
    "os.environ['GROQ_API_KEY'] = os.getenv('GROQ_API_KEY')\n",
    "os.environ['OPENAI_API_KEY'] = os.getenv('OPENAI_API_KEY')"
   ]
  },
  {
   "cell_type": "code",
   "execution_count": 7,
   "metadata": {},
   "outputs": [],
   "source": [
    "OPENAI = init_chat_model(model='gpt-4o-mini',model_provider='openai')\n",
    "llm = OPENAI"
   ]
  },
  {
   "cell_type": "code",
   "execution_count": 100,
   "metadata": {},
   "outputs": [],
   "source": [
    "class Preprocess_Input(BaseModel):\n",
    "    sql_task:str =  Field(None,description='sql task in the user asked input')\n",
    "    vis_task:Optional[str] = Field(None,description='visualization task in the user input')"
   ]
  },
  {
   "cell_type": "code",
   "execution_count": 1,
   "metadata": {},
   "outputs": [
    {
     "ename": "NameError",
     "evalue": "name 'BaseModel' is not defined",
     "output_type": "error",
     "traceback": [
      "\u001b[1;31m---------------------------------------------------------------------------\u001b[0m",
      "\u001b[1;31mNameError\u001b[0m                                 Traceback (most recent call last)",
      "Cell \u001b[1;32mIn[1], line 1\u001b[0m\n\u001b[1;32m----> 1\u001b[0m \u001b[38;5;28;01mclass\u001b[39;00m\u001b[38;5;250m \u001b[39m\u001b[38;5;21;01mQueryOutput\u001b[39;00m(\u001b[43mBaseModel\u001b[49m):\n\u001b[0;32m      2\u001b[0m \u001b[38;5;250m    \u001b[39m\u001b[38;5;124;03m\"\"\"Generated SQL query.\"\"\"\u001b[39;00m\n\u001b[0;32m      3\u001b[0m     query: Annotated[\u001b[38;5;28mstr\u001b[39m, \u001b[38;5;241m.\u001b[39m\u001b[38;5;241m.\u001b[39m\u001b[38;5;241m.\u001b[39m, \u001b[38;5;124m\"\u001b[39m\u001b[38;5;124mSyntactically valid SQL query.\u001b[39m\u001b[38;5;124m\"\u001b[39m]\n",
      "\u001b[1;31mNameError\u001b[0m: name 'BaseModel' is not defined"
     ]
    }
   ],
   "source": [
    "class QueryOutput(BaseModel):\n",
    "    \"\"\"Generated SQL query.\"\"\"\n",
    "    query: Annotated[str, ..., \"Syntactically valid SQL query.\"]"
   ]
  },
  {
   "cell_type": "code",
   "execution_count": 102,
   "metadata": {},
   "outputs": [],
   "source": [
    "preprocess_parser = PydanticOutputParser(pydantic_object=Preprocess_Input)"
   ]
  },
  {
   "cell_type": "code",
   "execution_count": 162,
   "metadata": {},
   "outputs": [],
   "source": [
    "preprocess_template = \"\"\" \n",
    "                    ROLE : To Extract the SQL tasks and Visualizations tasks from The user Queries\n",
    "                    NOTE:\n",
    "                    IMPORTANT : generate vis task only if needed otherwise leave it None\n",
    "                    you should not generate any python codes as well\n",
    "                    try  to include visualization task as well\n",
    "                    you should not write the actual sql queries instead just give the question to write sql query\n",
    "                    generate the appropriate the visualization query to do the visualization task by further generating python code\n",
    "                    FORMAT_INSTRUCTION : {format_instructions}\n",
    "                    INPUT : {input}\n",
    "                      \"\"\"\n",
    "preprocess_prompt = PromptTemplate(\n",
    "    template=preprocess_template,\n",
    "    input_variables=[\"input\"],\n",
    "    partial_variables={'format_instructions':preprocess_parser.get_format_instructions()}\n",
    ")\n",
    "\n",
    "preprocess_llm = preprocess_prompt | llm"
   ]
  },
  {
   "cell_type": "code",
   "execution_count": 11,
   "metadata": {},
   "outputs": [],
   "source": [
    "output = preprocess_llm.invoke({'input':'How many Invoices were there in 2009 and 2011? What are the respective total sales for each of those years?'})"
   ]
  },
  {
   "cell_type": "code",
   "execution_count": 12,
   "metadata": {},
   "outputs": [
    {
     "data": {
      "text/plain": [
       "Preprocess_Input(sql_input='How many Invoices were there in 2009 and 2011? What are the respective total sales for each of those years?', vis_input='Create a bar chart to visualize the number of invoices and total sales for the years 2009 and 2011.')"
      ]
     },
     "execution_count": 12,
     "metadata": {},
     "output_type": "execute_result"
    }
   ],
   "source": [
    "preprocess_parser.invoke(output)"
   ]
  },
  {
   "cell_type": "code",
   "execution_count": 172,
   "metadata": {},
   "outputs": [],
   "source": [
    "query_prompt_template = \"\"\" Given an input question, create a syntactically correct {dialect} query to run to help find the answer. Unless the user specifies in his question a specific number of examples they wish to obtain, always limit your query to at most {top_k} results. You can order the results by a relevant column to return the most interesting examples in the database.\n",
    "\n",
    "Never query for all the columns from a specific table, only ask for a the few relevant columns given the question.\n",
    "\n",
    "Pay attention to use only the column names that you can see in the schema description. Be careful to not query for columns that do not exist. Also, pay attention to which column is in which table.\n",
    "\n",
    "Only use the following tables:\n",
    "{table_info}\n",
    "\n",
    "Question: {input} \n",
    "\n",
    "Error : {error} // ignore if none\n",
    "\"\"\""
   ]
  },
  {
   "cell_type": "code",
   "execution_count": 173,
   "metadata": {},
   "outputs": [],
   "source": [
    "query_prompt = PromptTemplate.from_template(query_prompt_template)"
   ]
  },
  {
   "cell_type": "code",
   "execution_count": 174,
   "metadata": {},
   "outputs": [],
   "source": [
    "question =\"'How many Invoices were there in 2009 and 2011? What are the respective total sales for each of those years?'\"\n",
    "prompt = query_prompt.invoke(\n",
    "        {\n",
    "            \"dialect\": db.dialect,\n",
    "            \"top_k\": 10,\n",
    "            \"table_info\": db.get_table_info(),\n",
    "            \"input\": question,\n",
    "            'error':''\n",
    "        }\n",
    "    )"
   ]
  },
  {
   "cell_type": "code",
   "execution_count": 16,
   "metadata": {},
   "outputs": [],
   "source": [
    "sql_llm = llm.with_structured_output(QueryOutput)"
   ]
  },
  {
   "cell_type": "code",
   "execution_count": 129,
   "metadata": {},
   "outputs": [],
   "source": [
    "query = sql_llm.invoke(prompt).query"
   ]
  },
  {
   "cell_type": "code",
   "execution_count": null,
   "metadata": {},
   "outputs": [],
   "source": [
    "# query = query.replace('\\n',' ')"
   ]
  },
  {
   "cell_type": "code",
   "execution_count": 19,
   "metadata": {},
   "outputs": [],
   "source": [
    "# db.run(query)"
   ]
  },
  {
   "cell_type": "code",
   "execution_count": 130,
   "metadata": {},
   "outputs": [
    {
     "data": {
      "text/plain": [
       "\"SELECT strftime('%Y', InvoiceDate) AS Year, COUNT(*) AS InvoiceCount, SUM(Total) AS TotalSales\\nFROM Invoice\\nWHERE strftime('%Y', InvoiceDate) IN ('2009', '2011')\\nGROUP BY Year\\nORDER BY Year;\""
      ]
     },
     "execution_count": 130,
     "metadata": {},
     "output_type": "execute_result"
    }
   ],
   "source": [
    "query"
   ]
  },
  {
   "cell_type": "code",
   "execution_count": 131,
   "metadata": {},
   "outputs": [],
   "source": [
    "import pandas as pd\n",
    "import sqlite3\n",
    "\n",
    "conn = sqlite3.connect('Chinook.db')\n",
    "df = pd.read_sql_query(query, conn)"
   ]
  },
  {
   "cell_type": "code",
   "execution_count": null,
   "metadata": {},
   "outputs": [
    {
     "data": {
      "text/plain": [
       "ChatPromptTemplate(input_variables=['dialect', 'input', 'table_info', 'top_k'], input_types={}, partial_variables={}, metadata={'lc_hub_owner': 'langchain-ai', 'lc_hub_repo': 'sql-query-system-prompt', 'lc_hub_commit_hash': '5d6c20e97a0a3dc6f955719a185eb8987d9fce8a04ec1df70344ff92497ebcfb'}, messages=[SystemMessagePromptTemplate(prompt=PromptTemplate(input_variables=['dialect', 'input', 'table_info', 'top_k'], input_types={}, partial_variables={}, template='Given an input question, create a syntactically correct {dialect} query to run to help find the answer. Unless the user specifies in his question a specific number of examples they wish to obtain, always limit your query to at most {top_k} results. You can order the results by a relevant column to return the most interesting examples in the database.\\n\\nNever query for all the columns from a specific table, only ask for a the few relevant columns given the question.\\n\\nPay attention to use only the column names that you can see in the schema description. Be careful to not query for columns that do not exist. Also, pay attention to which column is in which table.\\n\\nOnly use the following tables:\\n{table_info}\\n\\nQuestion: {input}'), additional_kwargs={})])"
      ]
     },
     "execution_count": 168,
     "metadata": {},
     "output_type": "execute_result"
    }
   ],
   "source": []
  },
  {
   "cell_type": "code",
   "execution_count": 132,
   "metadata": {},
   "outputs": [],
   "source": [
    "data = df.to_dict()\n",
    "df.to_csv('data.csv')"
   ]
  },
  {
   "cell_type": "code",
   "execution_count": null,
   "metadata": {},
   "outputs": [],
   "source": [
    "# query_executor.invoke(query)"
   ]
  },
  {
   "cell_type": "code",
   "execution_count": 31,
   "metadata": {},
   "outputs": [],
   "source": [
    "# repl_tool('print(2+3)')"
   ]
  },
  {
   "cell_type": "code",
   "execution_count": 133,
   "metadata": {},
   "outputs": [],
   "source": [
    "class VisualizOutput(BaseModel):\n",
    "    code: str = Field(...,description='Python Code for the Visualization task')"
   ]
  },
  {
   "cell_type": "code",
   "execution_count": 134,
   "metadata": {},
   "outputs": [],
   "source": [
    "visualize_template = \"\"\" \n",
    "                    ROLE : To Generate the Python Code For the visualization query asked to DO!\n",
    "                    NOTE:\n",
    "                    IMPORTANT : Try to Generate the code error freely\n",
    "                    It is Encourages to use PLOTLY instead MATPLOTLIB\n",
    "                    Always save the plots in the PATH: 'images/image.png'\n",
    "                    DATA STORED IN PATH :'data.csv'\n",
    "\n",
    "                    To Save the Image 'USE THIS CODE' :\"plotly.offline.plot(fig, filename='images/image.html')\"\n",
    "                    INPUT : {input}\n",
    "                    SAMPLE_DATA : {data}\n",
    "                      \"\"\"\n",
    "visualize_prompt = PromptTemplate(\n",
    "    template=visualize_template,\n",
    "    input_variables=[\"input\",\"data\"],\n",
    "    # partial_variables={'format_instructions':visualize_parser.get_format_instructions()}\n",
    ")\n",
    "\n",
    "visualize_llm = visualize_prompt | llm.with_structured_output(VisualizOutput)"
   ]
  },
  {
   "cell_type": "code",
   "execution_count": 135,
   "metadata": {},
   "outputs": [],
   "source": [
    "output = visualize_llm.invoke({'input':'Generate a bar chart to visualize the number of invoices and total sales for the years 2009 and 2011.','data':df.head(100)})"
   ]
  },
  {
   "cell_type": "code",
   "execution_count": 136,
   "metadata": {},
   "outputs": [],
   "source": [
    "code = output.code"
   ]
  },
  {
   "cell_type": "code",
   "execution_count": 137,
   "metadata": {},
   "outputs": [
    {
     "name": "stdout",
     "output_type": "stream",
     "text": [
      "import pandas as pd\n",
      "import plotly.graph_objects as go\n",
      "\n",
      "# Load Data\n",
      "file_path = 'data.csv'\n",
      "df = pd.read_csv(file_path)\n",
      "\n",
      "# Filter data for the years 2009 and 2011\n",
      "data_filtered = df[df['Year'].isin([2009, 2011])]\n",
      "\n",
      "# Create bar chart\n",
      "df_bar = go.Figure()\n",
      "df_bar.add_trace(go.Bar(x=data_filtered['Year'], y=data_filtered['InvoiceCount'], name='Invoice Count'))\n",
      "df_bar.add_trace(go.Bar(x=data_filtered['Year'], y=data_filtered['TotalSales'], name='Total Sales'))\n",
      "\n",
      "# Update layout\n",
      "\n",
      "df_bar.update_layout(\n",
      "    title='Invoice Count and Total Sales for 2009 and 2011',\n",
      "    xaxis_title='Year',\n",
      "    yaxis_title='Count / Sales',\n",
      "    barmode='group',\n",
      "    template='plotly_white'\n",
      ")\n",
      "\n",
      "# Save the plot as HTML\n",
      "import plotly.offline as pyo\n",
      "pyo.plot(df_bar, filename='images/image.html')\n",
      "\n"
     ]
    }
   ],
   "source": [
    "print(code)"
   ]
  },
  {
   "cell_type": "code",
   "execution_count": 138,
   "metadata": {},
   "outputs": [
    {
     "data": {
      "text/plain": [
       "('', '', None)"
      ]
     },
     "execution_count": 138,
     "metadata": {},
     "output_type": "execute_result"
    }
   ],
   "source": [
    "execute_python_code(code)"
   ]
  },
  {
   "cell_type": "code",
   "execution_count": 2,
   "metadata": {},
   "outputs": [],
   "source": [
    "import pandas as pd\n",
    "import plotly\n",
    "import plotly.express as px\n",
    "\n",
    "# Load the data from the CSV file\n",
    "file_path = 'data.csv'\n",
    "data = pd.read_csv(file_path)\n",
    "\n",
    "# Filter data for the years 2009 and 2011\n",
    "filtered_data = data[data['Year'].isin([2009, 2011])]\n",
    "\n",
    "# Create a bar chart\n",
    "fig = px.bar(filtered_data, x='Year', y=['TotalInvoices', 'TotalSales'],\n",
    "             title='Invoices and Total Sales for 2009 and 2011',\n",
    "             labels={'value':'Count/Sales', 'variable':'Metric'},\n",
    "             barmode='group')\n",
    "\n",
    "# Save the plot to a file\n",
    "output_path = 'images/image.png'\n",
    "# fig.write_image(output_path)\n",
    "import plotly.io as pio\n",
    "\n",
    "# Save the figure as a PNG file\n",
    "output_path = 'images/image.png'\n",
    "# pio.write_image(fig, output_path, format='png')"
   ]
  },
  {
   "cell_type": "code",
   "execution_count": 6,
   "metadata": {},
   "outputs": [
    {
     "data": {
      "text/plain": [
       "'images/test.html'"
      ]
     },
     "execution_count": 6,
     "metadata": {},
     "output_type": "execute_result"
    }
   ],
   "source": [
    "plotly.offline.plot(fig, filename='images/test.html')"
   ]
  },
  {
   "cell_type": "code",
   "execution_count": 41,
   "metadata": {},
   "outputs": [],
   "source": [
    "from langgraph.graph import StateGraph,START,END\n",
    "from langgraph.graph.message import add_messages"
   ]
  },
  {
   "cell_type": "code",
   "execution_count": 112,
   "metadata": {},
   "outputs": [],
   "source": [
    "class SQL_State(TypedDict):\n",
    "    question: Annotated[List,add_messages]\n",
    "    sql_task: str\n",
    "    vis_task: str\n",
    "    query: str\n",
    "    code: str\n",
    "    sql_error: str\n",
    "    py_error: str\n",
    "    sq_result: str\n",
    "    answer: str"
   ]
  },
  {
   "cell_type": "code",
   "execution_count": null,
   "metadata": {},
   "outputs": [],
   "source": [
    "def preprocess_input(state: SQL_State):\n",
    "    output = preprocess_llm.invoke({'input':state['question']})\n",
    "    result = preprocess_parser.invoke(output).model_dump()\n",
    "    return result "
   ]
  },
  {
   "cell_type": "code",
   "execution_count": 175,
   "metadata": {},
   "outputs": [],
   "source": [
    "def generate_query(state:SQL_State):\n",
    "    prompt = query_prompt.invoke(\n",
    "        {\n",
    "            \"dialect\": db.dialect,\n",
    "            \"top_k\": 10,\n",
    "            \"table_info\": db.get_table_info(),\n",
    "            \"input\": question,\n",
    "            'error':state.get('sq_error',None)\n",
    "        }\n",
    "    )\n",
    "    return {'query': sql_llm.invoke(prompt).query}\n",
    "    # pass"
   ]
  },
  {
   "cell_type": "code",
   "execution_count": 176,
   "metadata": {},
   "outputs": [],
   "source": [
    "def execute_query(state:SQL_State):\n",
    "    query = state['query']\n",
    "    df = pd.read_sql_query(query, conn)\n",
    "    result = query_executor.invoke(query)\n",
    "    # data = df.to_dict()\n",
    "    df.to_csv('data.csv')\n",
    "    error = None\n",
    "    if 'error' in result:\n",
    "        error = result\n",
    "    return {'sq_result':result,'sql_error':error}"
   ]
  },
  {
   "cell_type": "code",
   "execution_count": 177,
   "metadata": {},
   "outputs": [],
   "source": [
    "def generate_answer(state:SQL_State):\n",
    "    prompt = (\n",
    "        \"Given the following user question, corresponding SQL query, \"\n",
    "        \"and SQL result, answer the user question.\\n\\n\"\n",
    "        f'Question: {state[\"sql_task\"]}\\n'\n",
    "        f'SQL Query: {state[\"query\"]}\\n'\n",
    "        f'SQL Result: {state[\"sq_result\"]}'\n",
    "        \n",
    "    )\n",
    "    response = llm.invoke(prompt)\n",
    "    return {\"answer\": response.content}"
   ]
  },
  {
   "cell_type": "code",
   "execution_count": 178,
   "metadata": {},
   "outputs": [],
   "source": [
    "def generate_code(state:SQL_State):\n",
    "    df = pd.read_sql_query(state['query'], conn)\n",
    "    # data = df.to_dict()\n",
    "    df.to_csv('data.csv')\n",
    "    output = visualize_llm.invoke({'input':state['vis_task'],'data':df.head(100)})\n",
    "    code = output.code\n",
    "    return {'code':code}"
   ]
  },
  {
   "cell_type": "code",
   "execution_count": 179,
   "metadata": {},
   "outputs": [],
   "source": [
    "def execute_code(state:SQL_State):\n",
    "    out,err,trace = execute_python_code(state['code'])\n",
    "    return {'py_error':trace}"
   ]
  },
  {
   "cell_type": "code",
   "execution_count": 180,
   "metadata": {},
   "outputs": [
    {
     "data": {
      "text/plain": [
       "<langgraph.graph.state.StateGraph at 0x22c6b4e2be0>"
      ]
     },
     "execution_count": 180,
     "metadata": {},
     "output_type": "execute_result"
    }
   ],
   "source": [
    "Graph = StateGraph(SQL_State)\n",
    "\n",
    "# Add nodes\n",
    "Graph.add_node('preprocess_input', preprocess_input)\n",
    "Graph.add_node('generate_query', generate_query)\n",
    "Graph.add_node('execute_query', execute_query)\n",
    "Graph.add_node('generate_answer', generate_answer)\n",
    "Graph.add_node('generate_code', generate_code)\n",
    "Graph.add_node('execute_code', execute_code)\n",
    "\n",
    "# Add edges\n",
    "Graph.add_edge(START, 'preprocess_input')\n",
    "Graph.add_edge('preprocess_input', 'generate_query')\n",
    "Graph.add_edge('generate_query', 'execute_query')\n",
    "\n",
    "# Conditional edge after execute_query\n",
    "Graph.add_conditional_edges(\n",
    "    'execute_query', \n",
    "    lambda SQL_State: 'generate_answer' if SQL_State.get('sql_error',None) is None else 'generate_query'\n",
    ")\n",
    "\n",
    "# Conditional edge after generate_answer\n",
    "Graph.add_conditional_edges(\n",
    "    'generate_answer', \n",
    "    lambda SQL_State: END if SQL_State.get('vis_task',None) is None else 'generate_code'\n",
    ")\n",
    "\n",
    "# Edge from generate_code to execute_code\n",
    "Graph.add_edge('generate_code', 'execute_code')\n",
    "\n",
    "# Conditional edge after execute_code\n",
    "Graph.add_conditional_edges(\n",
    "    'execute_code', \n",
    "    lambda SQL_State: END if SQL_State.get('py_error',None) is None else 'generate_code'\n",
    ")"
   ]
  },
  {
   "cell_type": "code",
   "execution_count": 181,
   "metadata": {},
   "outputs": [],
   "source": [
    "graph = Graph.compile()"
   ]
  },
  {
   "cell_type": "code",
   "execution_count": 144,
   "metadata": {},
   "outputs": [
    {
     "data": {
      "image/png": "[encoded data removed]",
      "text/plain": [
       "<langgraph.graph.state.CompiledStateGraph object at 0x0000022C69ED8C10>"
      ]
     },
     "execution_count": 144,
     "metadata": {},
     "output_type": "execute_result"
    }
   ],
   "source": [
    "graph"
   ]
  },
  {
   "cell_type": "code",
   "execution_count": 182,
   "metadata": {},
   "outputs": [
    {
     "data": {
      "text/plain": [
       "{'question': [HumanMessage(content='How many Invoices were there in 2009 and 2011? What are the respective total sales for each of those years?', additional_kwargs={}, response_metadata={}, id='212d6423-963b-4739-9754-5c523e2a13d2')],\n",
       " 'sql_task': 'Write a SQL query to count the number of invoices in the years 2009 and 2011 and to calculate the total sales for each of those years.',\n",
       " 'vis_task': 'Create a bar chart to display the count of invoices and total sales for the years 2009 and 2011.',\n",
       " 'query': \"SELECT strftime('%Y', InvoiceDate) AS Year, COUNT(InvoiceId) AS InvoiceCount, SUM(Total) AS TotalSales\\nFROM Invoice\\nWHERE strftime('%Y', InvoiceDate) IN ('2009', '2011')\\nGROUP BY Year\\nORDER BY Year\\nLIMIT 10;\",\n",
       " 'code': \"import pandas as pd\\nimport plotly.graph_objects as go\\nimport plotly.offline as pyo\\n\\n# Load data\\nfile_path = 'data.csv'\\ndata = pd.read_csv(file_path)\\n\\n# Filter the data for the years 2009 and 2011\\nfiltered_data = data[(data['Year'] == 2009) | (data['Year'] == 2011)]\\n\\n# Create a bar chart for InvoiceCount and TotalSales\\nfig = go.Figure()\\n\\n# Add traces for InvoiceCount\\nfig.add_trace(go.Bar(\\n    x=filtered_data['Year'],\\n    y=filtered_data['InvoiceCount'],\\n    name='Invoice Count',\\n    marker_color='indianred'\\n))\\n\\n# Add traces for TotalSales\\nfig.add_trace(go.Bar(\\n    x=filtered_data['Year'],\\n    y=filtered_data['TotalSales'],\\n    name='Total Sales',\\n    marker_color='lightskyblue'\\n))\\n\\n# Update the layout\\nfig.update_layout(\\n    title='Invoice Count and Total Sales for the Years 2009 and 2011',\\n    xaxis_title='Year',\\n    yaxis_title='Count / Sales ($)',\\n    barmode='group'\\n)\\n\\n# Save the plot as an HTML file\\npyo.plot(fig, filename='images/image.html')\",\n",
       " 'sql_error': None,\n",
       " 'py_error': None,\n",
       " 'sq_result': \"[('2009', 83, 449.46), ('2011', 83, 469.58)]\",\n",
       " 'answer': 'The SQL query counts the number of invoices and calculates the total sales for the years 2009 and 2011. According to the SQL result:\\n\\n- In the year **2009**, there were **83 invoices** and the **total sales** amounted to **$449.46**.\\n- In the year **2011**, there were also **83 invoices** with **total sales** of **$469.58**.\\n\\nSo, the answer to your question is:\\n\\nIn 2009, there were 83 invoices with total sales of $449.46, and in 2011, there were also 83 invoices with total sales of $469.58.'}"
      ]
     },
     "execution_count": 182,
     "metadata": {},
     "output_type": "execute_result"
    }
   ],
   "source": [
    "graph.invoke({'question':'How many Invoices were there in 2009 and 2011? What are the respective total sales for each of those years?'})"
   ]
  },
  {
   "cell_type": "code",
   "execution_count": 164,
   "metadata": {},
   "outputs": [
    {
     "name": "stderr",
     "output_type": "stream",
     "text": [
      "C:\\Users\\navab\\AppData\\Local\\Temp\\ipykernel_21016\\4073026401.py:1: LangChainDeprecationWarning:\n",
      "\n",
      "The method `SQLDatabase.get_table_names` was deprecated in langchain-community 0.0.1 and will be removed in 1.0. Use :meth:`~get_usable_table_names` instead.\n",
      "\n"
     ]
    },
    {
     "data": {
      "text/plain": [
       "['Album',\n",
       " 'Artist',\n",
       " 'Customer',\n",
       " 'Employee',\n",
       " 'Genre',\n",
       " 'Invoice',\n",
       " 'InvoiceLine',\n",
       " 'MediaType',\n",
       " 'Playlist',\n",
       " 'PlaylistTrack',\n",
       " 'Track']"
      ]
     },
     "execution_count": 164,
     "metadata": {},
     "output_type": "execute_result"
    }
   ],
   "source": [
    "db.get_table_names()"
   ]
  },
  {
   "cell_type": "code",
   "execution_count": 183,
   "metadata": {},
   "outputs": [
    {
     "data": {
      "text/plain": [
       "'[(83, 469.58)]'"
      ]
     },
     "execution_count": 183,
     "metadata": {},
     "output_type": "execute_result"
    }
   ],
   "source": [
    "db.run(\"\"\"select count(i.invoiceid), sum(i.total)\n",
    "from invoice as i\n",
    "where i.invoicedate between datetime('2011-01-01 00:00:00') and datetime('2011-12-31 00:00:00');\"\"\")"
   ]
  },
  {
   "cell_type": "code",
   "execution_count": 184,
   "metadata": {},
   "outputs": [
    {
     "data": {
      "text/plain": [
       "'[(83, 449.46)]'"
      ]
     },
     "execution_count": 184,
     "metadata": {},
     "output_type": "execute_result"
    }
   ],
   "source": [
    "db.run(\"\"\"\n",
    "select count(i.invoiceid), sum(i.total)\n",
    "from invoice as i\n",
    "where i.invoicedate between datetime('2009-01-01 00:00:00') and datetime('2009-12-31 00:00:00');\n",
    "\n",
    "\"\"\")"
   ]
  },
  {
   "cell_type": "code",
   "execution_count": null,
   "metadata": {},
   "outputs": [],
   "source": []
  }
 ],
 "metadata": {
  "kernelspec": {
   "display_name": "generativeai",
   "language": "python",
   "name": "python3"
  },
  "language_info": {
   "codemirror_mode": {
    "name": "ipython",
    "version": 3
   },
   "file_extension": ".py",
   "mimetype": "text/x-python",
   "name": "python",
   "nbconvert_exporter": "python",
   "pygments_lexer": "ipython3",
   "version": "3.9.21"
  }
 },
 "nbformat": 4,
 "nbformat_minor": 2
}
