{
 "cells": [
  {
   "cell_type": "code",
   "execution_count": 15,
   "metadata": {},
   "outputs": [],
   "source": [
    "import pandas as pd\n",
    "import io"
   ]
  },
  {
   "cell_type": "code",
   "execution_count": 16,
   "metadata": {},
   "outputs": [],
   "source": [
    "data = pd.read_csv(r'Uploads/data.csv')"
   ]
  },
  {
   "cell_type": "code",
   "execution_count": 17,
   "metadata": {},
   "outputs": [],
   "source": [
    "buffer = io.StringIO()\n",
    "data.info(buf=buffer)\n",
    "df_info_str = buffer.getvalue()"
   ]
  },
  {
   "cell_type": "code",
   "execution_count": 4,
   "metadata": {},
   "outputs": [],
   "source": [
    "import os\n",
    "from dotenv import load_dotenv\n",
    "load_dotenv()\n",
    "os.environ['GROQ_API_KEY'] = os.getenv('GROQ_API_KEY')\n",
    "os.environ['OPENAI_API_KEY'] = os.getenv('OPENAI_API_KEY')"
   ]
  },
  {
   "cell_type": "code",
   "execution_count": 23,
   "metadata": {},
   "outputs": [],
   "source": [
    "from pydantic import BaseModel, Field\n",
    "from typing import TypedDict, Optional, Annotated, List\n",
    "from pprint import pprint"
   ]
  },
  {
   "cell_type": "code",
   "execution_count": 3,
   "metadata": {},
   "outputs": [],
   "source": [
    "from langchain.chat_models import init_chat_model\n",
    "from langchain.prompts import ChatMessagePromptTemplate, PromptTemplate"
   ]
  },
  {
   "cell_type": "code",
   "execution_count": 5,
   "metadata": {},
   "outputs": [],
   "source": [
    "OPENAI = init_chat_model(model='gpt-4o-mini',model_provider='openai')\n",
    "llm = OPENAI"
   ]
  },
  {
   "cell_type": "code",
   "execution_count": 6,
   "metadata": {},
   "outputs": [],
   "source": [
    "class Python_Code(BaseModel):\n",
    "    code: str"
   ]
  },
  {
   "cell_type": "code",
   "execution_count": 19,
   "metadata": {},
   "outputs": [],
   "source": [
    "code_prompt = PromptTemplate(\n",
    "            template = \"You are a ML Engineer used to generate sophisticated, accurate , error-free python code to analyse the tasks:{tasks} in the data sample:{info_data} \\n data path:'data.csv'\",\n",
    "            input_variables = ['tasks','info_data']\n",
    "            )"
   ]
  },
  {
   "cell_type": "code",
   "execution_count": 20,
   "metadata": {},
   "outputs": [],
   "source": [
    "ml_llm = code_prompt | llm.with_structured_output(Python_Code)"
   ]
  },
  {
   "cell_type": "code",
   "execution_count": 21,
   "metadata": {},
   "outputs": [],
   "source": [
    "output = ml_llm.invoke({'tasks':'Do Customer Segmentation','info_data':df_info_str})"
   ]
  },
  {
   "cell_type": "code",
   "execution_count": 24,
   "metadata": {},
   "outputs": [
    {
     "name": "stdout",
     "output_type": "stream",
     "text": [
      "('import pandas as pd\\n'\n",
      " 'import seaborn as sns\\n'\n",
      " 'import matplotlib.pyplot as plt\\n'\n",
      " 'from sklearn.preprocessing import StandardScaler\\n'\n",
      " 'from sklearn.cluster import KMeans\\n'\n",
      " '\\n'\n",
      " '# Load the dataset\\n'\n",
      " \"file_path = 'data.csv'\\n\"\n",
      " 'df = pd.read_csv(file_path)\\n'\n",
      " '\\n'\n",
      " '# Display the first few rows of the dataframe\\n'\n",
      " 'print(df.head())\\n'\n",
      " '\\n'\n",
      " '# Exploratory Data Analysis\\n'\n",
      " '# Check the distribution of each feature\\n'\n",
      " \"sns.pairplot(df, hue='Gender')\\n\"\n",
      " 'plt.show()\\n'\n",
      " '\\n'\n",
      " '# Scaling the features for better clustering results\\n'\n",
      " \"features = ['Age', 'Annual Income (k$)', 'Spending Score (1-100)']\\n\"\n",
      " 'scaler = StandardScaler()\\n'\n",
      " 'scaled_features = scaler.fit_transform(df[features])\\n'\n",
      " '\\n'\n",
      " '# Determine the optimal number of clusters using the Elbow Method\\n'\n",
      " 'wcss = []\\n'\n",
      " 'for i in range(1, 11):\\n'\n",
      " '    kmeans = KMeans(n_clusters=i, random_state=42)\\n'\n",
      " '    kmeans.fit(scaled_features)\\n'\n",
      " '    wcss.append(kmeans.inertia_)\\n'\n",
      " '\\n'\n",
      " '# Plotting the Elbow curve\\n'\n",
      " 'plt.plot(range(1, 11), wcss)\\n'\n",
      " \"plt.title('Elbow Method For Optimal k')\\n\"\n",
      " \"plt.xlabel('Number of clusters')\\n\"\n",
      " \"plt.ylabel('WCSS')\\n\"\n",
      " 'plt.show()\\n'\n",
      " '\\n'\n",
      " '# From the elbow method result, choose an optimal number of clusters (e.g., '\n",
      " '4)\\n'\n",
      " 'optimal_k = 4\\n'\n",
      " 'kmeans = KMeans(n_clusters=optimal_k, random_state=42)\\n'\n",
      " 'clusters = kmeans.fit_predict(scaled_features)\\n'\n",
      " '\\n'\n",
      " '# Add the cluster labels to the original dataframe\\n'\n",
      " \"df['Cluster'] = clusters\\n\"\n",
      " '\\n'\n",
      " '# Visualizing the clusters\\n'\n",
      " 'plt.figure(figsize=(10, 6))\\n'\n",
      " \"sns.scatterplot(data=df, x='Annual Income (k$)', y='Spending Score (1-100)', \"\n",
      " \"hue='Cluster', palette='Set1')\\n\"\n",
      " \"plt.title('Customer Segmentation Based on Annual Income and Spending \"\n",
      " \"Score')\\n\"\n",
      " \"plt.legend(title='Cluster')\\n\"\n",
      " 'plt.show()\\n'\n",
      " '\\n'\n",
      " '# Optional: Save the clustered data to a new CSV file\\n'\n",
      " \"output_file_path = 'clustered_data.csv'\\n\"\n",
      " 'df.to_csv(output_file_path, index=False)\\n'\n",
      " '\\n'\n",
      " '# Print the segmented data\\n'\n",
      " \"print(df.groupby('Cluster').mean())\")\n"
     ]
    }
   ],
   "source": [
    "pprint(output.code)"
   ]
  },
  {
   "cell_type": "code",
   "execution_count": null,
   "metadata": {},
   "outputs": [],
   "source": []
  }
 ],
 "metadata": {
  "kernelspec": {
   "display_name": "generativeai",
   "language": "python",
   "name": "python3"
  },
  "language_info": {
   "codemirror_mode": {
    "name": "ipython",
    "version": 3
   },
   "file_extension": ".py",
   "mimetype": "text/x-python",
   "name": "python",
   "nbconvert_exporter": "python",
   "pygments_lexer": "ipython3",
   "version": "3.9.21"
  }
 },
 "nbformat": 4,
 "nbformat_minor": 2
}
